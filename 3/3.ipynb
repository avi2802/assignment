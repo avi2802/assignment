{
 "cells": [
  {
   "cell_type": "code",
   "execution_count": 3,
   "id": "328eacde",
   "metadata": {},
   "outputs": [
    {
     "name": "stdout",
     "output_type": "stream",
     "text": [
      "even no: 4\n",
      "odd no: 5\n"
     ]
    }
   ],
   "source": [
    "x = (1,2,3,4,5,6,7,8,9)\n",
    "count_even = 0\n",
    "count_odd = 0\n",
    "for z in x:\n",
    "    if not z %2:\n",
    "        count_even +=1\n",
    "    else:\n",
    "        count_odd +=1\n",
    "print(\"even no:\", count_even)\n",
    "print(\"odd no:\",count_odd)"
   ]
  },
  {
   "cell_type": "code",
   "execution_count": null,
   "id": "5ae93ea2",
   "metadata": {},
   "outputs": [],
   "source": []
  }
 ],
 "metadata": {
  "kernelspec": {
   "display_name": "Python 3 (ipykernel)",
   "language": "python",
   "name": "python3"
  },
  "language_info": {
   "codemirror_mode": {
    "name": "ipython",
    "version": 3
   },
   "file_extension": ".py",
   "mimetype": "text/x-python",
   "name": "python",
   "nbconvert_exporter": "python",
   "pygments_lexer": "ipython3",
   "version": "3.10.1"
  }
 },
 "nbformat": 4,
 "nbformat_minor": 5
}
